{
 "cells": [
  {
   "cell_type": "code",
   "execution_count": 1,
   "metadata": {},
   "outputs": [],
   "source": [
    "import os \n",
    "import json\n",
    "import matplotlib.pyplot as plt\n",
    "import numpy as np\n",
    "import pandas as pd\n",
    "from mpl_toolkits.mplot3d import Axes3D\n",
    "%matplotlib inline\n",
    "import numpy as np\n",
    "import matplotlib.cm as cm\n",
    "# 원래 json 경로 \n",
    "root = \"./New_Sejong_RCV_dataset/RGBTDv3/json_depth_check_with_tool_change/\"\n",
    "# New Label 을 저장할 경로\n",
    "new_root = \"./New_Sejong_RCV_dataset/RGBTDv3/json_depth_label_4\"\n",
    "# 경로 생성\n",
    "if not os.path.exists(new_root):\n",
    "    os.makedirs(new_root)\n"
   ]
  },
  {
   "cell_type": "code",
   "execution_count": 3,
   "metadata": {},
   "outputs": [],
   "source": [
    "mins=[]\n",
    "# 임의로 각 라벨을 네이밍\n",
    "Labels_12_ver1=[\"Pedestrian_02\",\"Pedestrian_03\",\"Pedestrian_04\",\"Pedestrian_05\",\"Pedestrian_06\",\"Pedestrian_07\",\"Pedestrian_08\",\"Pedestrian_08P\"]\n",
    "Labels_12_ver4=[\"Pedestrian_02\",\"Pedestrian_04\",\"Pedestrian_07\",\"Pedestrian_07P\"]\n",
    "\n",
    "for Set in os.listdir(root):\n",
    "   \n",
    "    for i in os.listdir(os.path.join(root,Set)):\n",
    "        # 기존 json 불러오기\n",
    "        with open(os.path.join(root,Set,i)) as j:\n",
    "            target = json.load(j)\n",
    "        for ann in target[\"annotation\"]:\n",
    "            \n",
    "            #if ann[\"occlusion\"]==2:\n",
    "             #   continue\n",
    "            # 현재는 ignore 만 아니면 다 변환 하도록 코드가 짜져있음\n",
    "            if ann[\"category_id\"]!=-1:\n",
    "                # depth를 M 단위로 변환\n",
    "                depth=ann[\"depth\"]/1000   \n",
    "                height=ann[\"bbox\"][3]-ann[\"bbox\"][1]\n",
    "                # Depth 에 따라서 임의로 네이밍한 라벨을 부여\n",
    "                if depth<2: # 2M 보다 작을 경우 Pedestrian_02\n",
    "                        depth_5=1\n",
    "                        new_label=Labels_12_ver4[0]\n",
    "                elif depth>=2 and depth<4:# 2M ~4M Pedestrian_04\n",
    "                        depth_5=2\n",
    "                        new_label=Labels_12_ver4[1]\n",
    "                elif depth>=4 and depth<7:# 4M ~7M Pedestrian_07\n",
    "                        depth_5=3\n",
    "                        new_label=Labels_12_ver4[2]\n",
    "                elif depth>=7:# 7M~ Pedestrian_07\n",
    "                        depth_5=4\n",
    "                        new_label=Labels_12_ver4[3]\n",
    "                else: # 예외 처리\n",
    "                    print(\"out\")\n",
    "\n",
    "                ann[\"Label\"]=new_label\n",
    "                ann[\"category_id\"]=depth_5\n",
    "                \n",
    "        if not os.path.exists(os.path.join(new_root,Set)):\n",
    "            os.makedirs(os.path.join(new_root,Set))\n",
    "        # 새로운 경로에 저장\n",
    "        with open(os.path.join(new_root,Set,i),\"w\") as j:\n",
    "            json.dump(target,j)\n"
   ]
  },
  {
   "cell_type": "code",
   "execution_count": 4,
   "metadata": {},
   "outputs": [],
   "source": [
    "# 새로 만든 라벨의 경향성을 보기 위한 visualization\n",
    "# Dictionary 에 bbox 마다 Depth 와 heigh를 저장\n",
    "# Dictionary 준비\n",
    "height_New_1={\"Pedestrian_02\":[],\"Pedestrian_03\":[],\"Pedestrian_04\":[],\"Pedestrian_05\":[],\"Pedestrian_06\":[],\"Pedestrian_07\":[],\"Pedestrian_08\":[],\"Pedestrian_08P\":[]}\n",
    "depth_New_1={\"Pedestrian_02\":[],\"Pedestrian_03\":[],\"Pedestrian_04\":[],\"Pedestrian_05\":[],\"Pedestrian_06\":[],\"Pedestrian_07\":[],\"Pedestrian_08\":[],\"Pedestrian_08P\":[]}\n",
    "height_New_3={\"Pedestrian_02\":[],\"Pedestrian_04\":[],\"Pedestrian_07\":[],\"Pedestrian_07P\":[]}\n",
    "depth_New_3={\"Pedestrian_02\":[],\"Pedestrian_04\":[],\"Pedestrian_07\":[],\"Pedestrian_07P\":[]}\n",
    "traintxt=open(\"./New_Sejong_RCV_dataset/Thr_train.txt\",\"r\")\n",
    "json_labelpath=new_root+\"/%s/%s\"#\"./New_Sejong_RCV_dataset/RGBTDv3/json_depth_label_/%s/%s\"\n",
    "for i in traintxt:\n",
    "    # 각 파일의 이름을 잘 보자 \n",
    "    # label과 이미지의 이름이 다를 수도 있고 \n",
    "    # Set 마다 다른 경우도 가끔 있을 수 있음\n",
    "    number=int(i.split(\"_\")[-1][:-1])\n",
    "    if number!=1:\n",
    "        number=number/10\n",
    "    ids=\"RGB_L_%07d.json\"%number\n",
    "    paths=json_labelpath%(i.split(\"/\")[3],ids)\n",
    "    # json open\n",
    "    with open(os.path.join(paths)) as j:\n",
    "        target = json.load(j)\n",
    "    for ann in target[\"annotation\"]:    \n",
    "        if ann[\"category_id\"]==-1:\n",
    "            continue\n",
    "        try:\n",
    "            if ann[\"Label\"] in Labels_12_ver4:\n",
    "                height=ann[\"bbox\"][3]-ann[\"bbox\"][1]\n",
    "                # dictionary의 key 가 라벨이니 그에 맞게 Depth 와 Heigh가 순서대로 저장\n",
    "                depth_New_3[ann[\"Label\"]].append(ann[\"depth\"]/1000)\n",
    "                height_New_3[ann[\"Label\"]].append(height)\n",
    "        except:\n",
    "            import pdb;pdb.set_trace()\n"
   ]
  },
  {
   "cell_type": "code",
   "execution_count": 5,
   "metadata": {},
   "outputs": [
    {
     "name": "stdout",
     "output_type": "stream",
     "text": [
      "2225.0\n",
      "2527.0\n",
      "1834.0\n",
      "1458.0\n"
     ]
    },
    {
     "data": {
      "image/png": "[encoded data removed]",
      "text/plain": [
       "<Figure size 432x288 with 1 Axes>"
      ]
     },
     "metadata": {
      "needs_background": "light"
     },
     "output_type": "display_data"
    }
   ],
   "source": [
    "# 새로 만든 라벨의 경향성을 보기 위한 visualization\n",
    "\n",
    "colors = cm.rainbow(np.linspace(0, 1,11))\n",
    "cnt=0;\n",
    "fig = plt.figure()\n",
    "# 3D plot 용\n",
    "#ax = Axes3D(fig)\n",
    "hist_labels=list()# 각 구간의 Height 라벨\n",
    "hists=list()# 빈도수 저장 용 list\n",
    "depth_s=list()\n",
    "for Label in Labels_12_ver4:\n",
    "    \n",
    "    heights_=height_New_3[Label]\n",
    "    depths_=depth_New_3[Label]\n",
    "    depths_=np.array(depths_)\n",
    "    plots_=np.array(plots_)\n",
    "\n",
    "    if len(plots_)==0:\n",
    "        continue\n",
    "    maxs=plots_.max()\n",
    "    mins=plots_.min()\n",
    "    mis=maxs-mins\n",
    "    depth_=np.zeros(10)\n",
    "    hist=np.zeros(10)\n",
    "    hist_label=np.zeros(10)\n",
    "    \n",
    "    for i in range(10):\n",
    "        #import pdb;pdb.set_trace()\n",
    "        minnp=heights_[(heights_> mins+mis/10*i)*(heights_< mins+mis/10*(i+1))]\n",
    "        depth=depths_[(heights_> mins+mis/10*i)*(heights_< mins+mis/10*(i+1))]\n",
    "        if len(depth)==0:\n",
    "            depth_[i]==0\n",
    "        else:\n",
    "            depth_[i]=int(depth.mean())\n",
    "        hist[i]=len(minnp)\n",
    "        hist_label[i]=int(mins+mis/10*i)\n",
    "\n",
    "    \n",
    "    plt.xlim(0,535)\n",
    "    hist_labels.append(hist_label)\n",
    "    hists.append(hist)\n",
    "    depth_s.append(depth_)\n",
    "    # import  pdb;pdb.set_trace()\n",
    "    print(np.array(hist_label).sum())\n",
    "    plt.plot(hist_label,hist,color=colors[cnt])\n",
    "    # 3D plot 용\n",
    "    #ax.view_init(-15, 30)\n",
    "    #ax.set_ylim(0,300)\n",
    "    #ax.set_xlabel('height Label')\n",
    "    #ax.set_ylabel('many Label')\n",
    "    #ax.set_zlabel ('depth Label')\n",
    "    #ax.plot(hist_label,hist , depth_,5,5,5,color=colors[cnt])\n",
    "\n",
    "    cnt+=1\n",
    "\n",
    "plt.show()"
   ]
  },
  {
   "cell_type": "code",
   "execution_count": 28,
   "metadata": {},
   "outputs": [
    {
     "data": {
      "text/plain": [
       "[]"
      ]
     },
     "execution_count": 28,
     "metadata": {},
     "output_type": "execute_result"
    }
   ],
   "source": [
    "300\n",
    "250\n",
    "210\n",
    "150\n",
    "110\n",
    "90\n"
   ]
  },
  {
   "cell_type": "code",
   "execution_count": 65,
   "metadata": {},
   "outputs": [
    {
     "name": "stdout",
     "output_type": "stream",
     "text": [
      "Pedestrian_02   675\n",
      "Pedestrian_03   714\n",
      "Pedestrian_04   777\n",
      "Pedestrian_05   580\n",
      "Pedestrian_06   323\n",
      "Pedestrian_07   139\n",
      "Pedestrian_08   79\n",
      "Pedestrian_08P   524\n"
     ]
    }
   ],
   "source": [
    "sum=0\n",
    "for i in depth_New_3:\n",
    "    sum+=len(depth_New_3[i])\n",
    "    print(i,\" \",len(depth_New_3[i]))"
   ]
  },
  {
   "cell_type": "code",
   "execution_count": 26,
   "metadata": {},
   "outputs": [
    {
     "data": {
      "text/plain": [
       "[0, 0, 0, 0, 0, 0]"
      ]
     },
     "execution_count": 26,
     "metadata": {},
     "output_type": "execute_result"
    }
   ],
   "source": [
    "depth_New_3[\"Pedestrian_02\"]"
   ]
  },
  {
   "cell_type": "code",
   "execution_count": 66,
   "metadata": {},
   "outputs": [
    {
     "data": {
      "text/plain": [
       "3811"
      ]
     },
     "execution_count": 66,
     "metadata": {},
     "output_type": "execute_result"
    }
   ],
   "source": [
    "sum"
   ]
  },
  {
   "cell_type": "code",
   "execution_count": 9,
   "metadata": {},
   "outputs": [
    {
     "name": "stdout",
     "output_type": "stream",
     "text": [
      "Pedestrian_02 1.4466725925925925\n",
      "Pedestrian_04 3.0123702213279673\n",
      "Pedestrian_07 5.053271593090211\n",
      "Pedestrian_07P 9.938150912106137\n"
     ]
    }
   ],
   "source": [
    "for i in depth_New_3:\n",
    "    print(i,np.array(depth_New_3[i]).mean())"
   ]
  },
  {
   "cell_type": "code",
   "execution_count": null,
   "metadata": {},
   "outputs": [],
   "source": []
  }
 ],
 "metadata": {
  "kernelspec": {
   "display_name": "Python 3",
   "language": "python",
   "name": "python3"
  },
  "language_info": {
   "codemirror_mode": {
    "name": "ipython",
    "version": 3
   },
   "file_extension": ".py",
   "mimetype": "text/x-python",
   "name": "python",
   "nbconvert_exporter": "python",
   "pygments_lexer": "ipython3",
   "version": "3.7.1"
  }
 },
 "nbformat": 4,
 "nbformat_minor": 2
}
